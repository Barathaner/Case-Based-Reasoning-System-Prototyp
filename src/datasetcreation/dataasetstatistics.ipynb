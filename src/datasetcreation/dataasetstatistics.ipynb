{
 "cells": [
  {
   "cell_type": "code",
   "execution_count": 2,
   "metadata": {},
   "outputs": [],
   "source": [
    "import pandas as pd\n",
    "\n",
    "df = pd.read_csv('../../data/Recipes.csv')\n",
    "df2=pd.read_csv('../../data/ingredients.csv')\n"
   ]
  },
  {
   "cell_type": "code",
   "execution_count": 10,
   "metadata": {},
   "outputs": [
    {
     "name": "stdout",
     "output_type": "stream",
     "text": [
      "\\begin{tabular}{llll}\n",
      "\\toprule\n",
      "{} &   cuisine & course\\_type & dietary\\_preference \\\\\n",
      "\\midrule\n",
      "count  &       500 &         500 &                500 \\\\\n",
      "unique &        45 &           7 &                  3 \\\\\n",
      "top    &  american &        main &         omnivorous \\\\\n",
      "freq   &       297 &         180 &                281 \\\\\n",
      "\\bottomrule\n",
      "\\end{tabular}\n",
      "\n"
     ]
    },
    {
     "name": "stderr",
     "output_type": "stream",
     "text": [
      "/tmp/ipykernel_6069/2175061517.py:3: FutureWarning: In future versions `DataFrame.to_latex` is expected to utilise the base implementation of `Styler.to_latex` for formatting and rendering. The arguments signature may therefore change. It is recommended instead to use `DataFrame.style.to_latex` which also contains additional functionality.\n",
      "  print(describe.to_latex())\n"
     ]
    }
   ],
   "source": [
    "describe=df.describe()\n",
    "describe=describe[['cuisine', 'course_type', 'dietary_preference']]\n",
    "print(describe.to_latex())"
   ]
  },
  {
   "cell_type": "code",
   "execution_count": 14,
   "metadata": {},
   "outputs": [
    {
     "name": "stdout",
     "output_type": "stream",
     "text": [
      "\\begin{tabular}{llll}\n",
      "\\toprule\n",
      "{} & ingredient & foodcategory & basictaste \\\\\n",
      "\\midrule\n",
      "count  &       4265 &         4265 &       4265 \\\\\n",
      "unique &       1773 &           67 &         39 \\\\\n",
      "top    &       salt &    vegetable &      sweet \\\\\n",
      "freq   &        153 &          670 &        883 \\\\\n",
      "\\bottomrule\n",
      "\\end{tabular}\n",
      "\n"
     ]
    },
    {
     "name": "stderr",
     "output_type": "stream",
     "text": [
      "/tmp/ipykernel_6069/2242354164.py:3: FutureWarning: In future versions `DataFrame.to_latex` is expected to utilise the base implementation of `Styler.to_latex` for formatting and rendering. The arguments signature may therefore change. It is recommended instead to use `DataFrame.style.to_latex` which also contains additional functionality.\n",
      "  print(df2.to_latex())\n"
     ]
    }
   ],
   "source": [
    "df2=df2.describe()\n",
    "df2=df2[['ingredient','foodcategory','basictaste']]\n",
    "print(df2.to_latex())"
   ]
  },
  {
   "cell_type": "code",
   "execution_count": null,
   "metadata": {},
   "outputs": [],
   "source": []
  }
 ],
 "metadata": {
  "kernelspec": {
   "display_name": "tinyllava",
   "language": "python",
   "name": "python3"
  },
  "language_info": {
   "codemirror_mode": {
    "name": "ipython",
    "version": 3
   },
   "file_extension": ".py",
   "mimetype": "text/x-python",
   "name": "python",
   "nbconvert_exporter": "python",
   "pygments_lexer": "ipython3",
   "version": "3.10.14"
  }
 },
 "nbformat": 4,
 "nbformat_minor": 2
}
